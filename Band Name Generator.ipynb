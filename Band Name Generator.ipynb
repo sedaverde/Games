{
 "cells": [
  {
   "cell_type": "code",
   "execution_count": 7,
   "id": "5be166de",
   "metadata": {},
   "outputs": [
    {
     "name": "stdout",
     "output_type": "stream",
     "text": [
      "Welcome to the band name generator.\n",
      "Which city did you grow up in?\n",
      "Brownsville\n",
      "What is the name of a pet?\n",
      "Precious\n",
      "Your band name should be Brownsville Precious.\n"
     ]
    }
   ],
   "source": [
    "print(\"Welcome to the band name generator.\")\n",
    "city = input(\"Which city did you grow up in?\\n\")\n",
    "pet = input(\"What is the name of a pet?\\n\")\n",
    "print(\"Your band name should be \"+ city + \" \"+ pet + \".\")"
   ]
  },
  {
   "cell_type": "code",
   "execution_count": null,
   "id": "9fba06bd",
   "metadata": {},
   "outputs": [],
   "source": []
  },
  {
   "cell_type": "code",
   "execution_count": null,
   "id": "eba4733f",
   "metadata": {},
   "outputs": [],
   "source": []
  }
 ],
 "metadata": {
  "kernelspec": {
   "display_name": "PythonV1",
   "language": "python",
   "name": "pythonv1"
  },
  "language_info": {
   "codemirror_mode": {
    "name": "ipython",
    "version": 3
   },
   "file_extension": ".py",
   "mimetype": "text/x-python",
   "name": "python",
   "nbconvert_exporter": "python",
   "pygments_lexer": "ipython3",
   "version": "3.9.7"
  }
 },
 "nbformat": 4,
 "nbformat_minor": 5
}
