{
 "cells": [
  {
   "cell_type": "code",
   "execution_count": 5,
   "id": "3195f5ee",
   "metadata": {},
   "outputs": [
    {
     "name": "stdout",
     "output_type": "stream",
     "text": [
      "Welcome to te tip calculator.\n",
      "How much was the bill?\n",
      "189.65\n",
      "How much of a tip would you like to give?\n",
      "25\n",
      "How many people will be splitting the bill?\n",
      "8\n",
      "Each person pays 29.63\n"
     ]
    }
   ],
   "source": [
    "#If the bill was $150.00, split between 5 people, with 12% tip. \n",
    "\n",
    "#Each person should pay (150.00 / 5) * 1.12 = 33.6\n",
    "#Format the result to 2 decimal places = 33.60\n",
    "\n",
    "#Tip: There are 2 ways to round a number. You might have to do some Googling to solve this.💪\n",
    "\n",
    "#Write your code below this line 👇\n",
    "print(\"Welcome to te tip calculator.\")\n",
    "bill = float(input(\"How much was the bill?\\n\"))\n",
    "tip = float(input(\"How much of a tip would you like to give?\\n\"))\n",
    "people = float(input(\"How many people will be splitting the bill?\\n\"))\n",
    "split = str(round((bill/people)*(1+(tip/100)),2))\n",
    "print(\"Each person pays \"+ split)"
   ]
  },
  {
   "cell_type": "code",
   "execution_count": null,
   "id": "49d14a02",
   "metadata": {},
   "outputs": [],
   "source": []
  }
 ],
 "metadata": {
  "kernelspec": {
   "display_name": "PythonV1",
   "language": "python",
   "name": "pythonv1"
  },
  "language_info": {
   "codemirror_mode": {
    "name": "ipython",
    "version": 3
   },
   "file_extension": ".py",
   "mimetype": "text/x-python",
   "name": "python",
   "nbconvert_exporter": "python",
   "pygments_lexer": "ipython3",
   "version": "3.9.7"
  }
 },
 "nbformat": 4,
 "nbformat_minor": 5
}
